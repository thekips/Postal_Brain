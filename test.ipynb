{
 "metadata": {
  "language_info": {
   "codemirror_mode": {
    "name": "ipython",
    "version": 3
   },
   "file_extension": ".py",
   "mimetype": "text/x-python",
   "name": "python",
   "nbconvert_exporter": "python",
   "pygments_lexer": "ipython3",
   "version": "3.8.8"
  },
  "orig_nbformat": 2,
  "kernelspec": {
   "name": "python388jvsc74a57bd098b0a9b7b4eaaa670588a142fd0a9b87eaafe866f1db4228be72b4211d12040f",
   "display_name": "Python 3.8.8 64-bit ('base': conda)"
  },
  "metadata": {
   "interpreter": {
    "hash": "98b0a9b7b4eaaa670588a142fd0a9b87eaafe866f1db4228be72b4211d12040f"
   }
  }
 },
 "nbformat": 4,
 "nbformat_minor": 2,
 "cells": [
  {
   "cell_type": "code",
   "execution_count": 3,
   "metadata": {},
   "outputs": [],
   "source": [
    "a = [1, 2, 3]\n",
    "b = [3, 4, 6]\n",
    "c = [8, 4, 9, 3, 7]"
   ]
  },
  {
   "cell_type": "code",
   "execution_count": 8,
   "metadata": {},
   "outputs": [
    {
     "output_type": "stream",
     "name": "stdout",
     "text": [
      "(1, 8)\n(2, 4)\n(3, 9)\n"
     ]
    }
   ],
   "source": [
    "for x in zip(a, c):\n",
    "    print(x)"
   ]
  },
  {
   "cell_type": "code",
   "execution_count": 17,
   "metadata": {},
   "outputs": [
    {
     "output_type": "stream",
     "name": "stdout",
     "text": [
      "(2, 6, 0) (5, 7, 5)\n"
     ]
    }
   ],
   "source": [
    "y = [(2, 5), (6, 7), (0, 5)]\n",
    "x, z = zip(*y)\n",
    "print(x, z)"
   ]
  },
  {
   "cell_type": "code",
   "execution_count": 70,
   "metadata": {},
   "outputs": [],
   "source": [
    "import torch.nn.functional as F\n",
    "import torch\n",
    "from torch.distributions import Categorical\n",
    "probs = torch.tensor([[3.4, 5, 6.7, 9.0], [3.4, 5, 6.7, 9.0]])\n",
    "\n"
   ]
  },
  {
   "cell_type": "code",
   "execution_count": 28,
   "metadata": {},
   "outputs": [
    {
     "output_type": "stream",
     "name": "stdout",
     "text": [
      "tensor([[-5.7154, -4.1154, -2.4154, -0.1154],\n        [-5.7154, -4.1154, -2.4154, -0.1154]])\n"
     ]
    }
   ],
   "source": [
    "print(F.log_softmax(probs, dim=1))\n",
    "log_probs = F.log_softmax(probs, dim=1)"
   ]
  },
  {
   "cell_type": "code",
   "execution_count": 29,
   "metadata": {},
   "outputs": [],
   "source": [
    "x = log_probs.gather"
   ]
  },
  {
   "cell_type": "code",
   "execution_count": 38,
   "metadata": {},
   "outputs": [
    {
     "output_type": "execute_result",
     "data": {
      "text/plain": [
       "tensor([[27, 28, 29, 30, 31, 32, 33, 34, 35, 36, 37, 38, 39, 40, 41, 42, 43, 44,\n",
       "         45, 46, 47, 48, 49, 50, 51, 52, 53, 54, 55, 56, 57],\n",
       "        [58, 59, 60, 61, 62, 63, 64, 65, 66, 67, 68, 69, 70, 71, 72, 73, 74, 75,\n",
       "         76, 77, 78, 79, 80, 81, 82, 83, 84, 85, 86, 87, 88]])"
      ]
     },
     "metadata": {},
     "execution_count": 38
    }
   ],
   "source": [
    "\n",
    "a = torch.arange(27, 89).view(2, 31)\n",
    "a"
   ]
  },
  {
   "cell_type": "code",
   "execution_count": 66,
   "metadata": {},
   "outputs": [
    {
     "output_type": "execute_result",
     "data": {
      "text/plain": [
       "tensor([[0, 1, 0, 0, 0, 0, 0, 0, 0, 0, 0, 0, 0, 0, 0, 0, 0, 0, 0, 0, 0, 0, 0, 0,\n",
       "         0, 0, 0, 0, 0, 0, 0]])"
      ]
     },
     "metadata": {},
     "execution_count": 66
    }
   ],
   "source": [
    "b = torch.zeros(1, 31, dtype=int)\n",
    "b[0][1] = 1\n",
    "b"
   ]
  },
  {
   "cell_type": "code",
   "execution_count": 67,
   "metadata": {},
   "outputs": [
    {
     "output_type": "execute_result",
     "data": {
      "text/plain": [
       "tensor([[27, 28, 27, 27, 27, 27, 27, 27, 27, 27, 27, 27, 27, 27, 27, 27, 27, 27,\n",
       "         27, 27, 27, 27, 27, 27, 27, 27, 27, 27, 27, 27, 27]])"
      ]
     },
     "metadata": {},
     "execution_count": 67
    }
   ],
   "source": [
    "a.gather(1, b)"
   ]
  },
  {
   "cell_type": "code",
   "execution_count": 118,
   "metadata": {},
   "outputs": [],
   "source": [
    "probs = torch.FloatTensor([1.1, 1.2, 1.3, 1.5])\n",
    "dist = Categorical(probs)\n",
    "action = dist.sample()"
   ]
  },
  {
   "cell_type": "code",
   "execution_count": 120,
   "metadata": {},
   "outputs": [
    {
     "output_type": "stream",
     "name": "stdout",
     "text": [
      "tensor(0)\n"
     ]
    }
   ],
   "source": [
    "print(action)\n",
    "action_log_probs = num.log_prob(action)"
   ]
  },
  {
   "cell_type": "code",
   "execution_count": 121,
   "metadata": {},
   "outputs": [
    {
     "output_type": "execute_result",
     "data": {
      "text/plain": [
       "tensor(-1.5339)"
      ]
     },
     "metadata": {},
     "execution_count": 121
    }
   ],
   "source": [
    "action_log_probs"
   ]
  },
  {
   "cell_type": "code",
   "execution_count": 122,
   "metadata": {},
   "outputs": [
    {
     "output_type": "execute_result",
     "data": {
      "text/plain": [
       "tensor([-1.5724, -1.4724, -1.3724, -1.1724])"
      ]
     },
     "metadata": {},
     "execution_count": 122
    }
   ],
   "source": [
    "log_probs = F.log_softmax(probs, dim=0)\n",
    "log_probs"
   ]
  },
  {
   "cell_type": "code",
   "execution_count": 142,
   "metadata": {},
   "outputs": [],
   "source": [
    "def make_env():\n",
    "    def _thunk():\n",
    "        env = gym.make(env_name)\n",
    "        return env\n",
    "    return _thunk"
   ]
  },
  {
   "cell_type": "code",
   "execution_count": 143,
   "metadata": {},
   "outputs": [],
   "source": [
    "envs = [make_env() for _ in range(8)]"
   ]
  },
  {
   "cell_type": "code",
   "execution_count": 144,
   "metadata": {},
   "outputs": [
    {
     "output_type": "stream",
     "name": "stdout",
     "text": [
      "[<function make_env.<locals>._thunk at 0x7f5b3a2a8a60>, <function make_env.<locals>._thunk at 0x7f5a0ffdb670>, <function make_env.<locals>._thunk at 0x7f5a0ffdb040>, <function make_env.<locals>._thunk at 0x7f5a0ffdbc10>, <function make_env.<locals>._thunk at 0x7f5a0ffdb280>, <function make_env.<locals>._thunk at 0x7f5a0ffdb550>, <function make_env.<locals>._thunk at 0x7f5a0ffdbd30>, <function make_env.<locals>._thunk at 0x7f5a0ffdbee0>]\n"
     ]
    }
   ],
   "source": [
    "print(envs)"
   ]
  }
 ]
}