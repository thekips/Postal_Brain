{
 "metadata": {
  "language_info": {
   "codemirror_mode": {
    "name": "ipython",
    "version": 3
   },
   "file_extension": ".py",
   "mimetype": "text/x-python",
   "name": "python",
   "nbconvert_exporter": "python",
   "pygments_lexer": "ipython3",
   "version": "3.6.13"
  },
  "orig_nbformat": 2,
  "kernelspec": {
   "name": "python3613jvsc74a57bd080c02beff9a5245f3db31491050664370b2764250f00562ec581fd1131b19f5e",
   "display_name": "Python 3.6.13 64-bit ('torch': conda)"
  }
 },
 "nbformat": 4,
 "nbformat_minor": 2,
 "cells": [
  {
   "cell_type": "code",
   "execution_count": 91,
   "metadata": {},
   "outputs": [
    {
     "output_type": "execute_result",
     "data": {
      "text/plain": [
       "tensor([[2, 1, 4, 5, 3, 0, 6],\n",
       "        [6, 3, 5, 2, 4, 1, 0]])"
      ]
     },
     "metadata": {},
     "execution_count": 91
    }
   ],
   "source": [
    "import torch\n",
    "import torch.nn.functional as F\n",
    "import time\n",
    "actions = torch.Tensor([[2,4,5,2,3,1,0],[1,1,1,1,1,1,0]])\n",
    "actions = F.softmax(actions, dim=1)\n",
    "actions.multinomial(7)"
   ]
  },
  {
   "cell_type": "code",
   "execution_count": 100,
   "metadata": {},
   "outputs": [
    {
     "output_type": "stream",
     "name": "stdout",
     "text": [
      "tensor([0.1570, 0.1570, 0.1570, 0.1570, 0.1570, 0.1570, 0.0578])\n"
     ]
    },
    {
     "output_type": "execute_result",
     "data": {
      "text/plain": [
       "array([2])"
      ]
     },
     "metadata": {},
     "execution_count": 100
    }
   ],
   "source": [
    "actions = torch.Tensor([1,1,1,1,1,1,0])\n",
    "actions = F.softmax(actions, dim=0)\n",
    "print(actions)\n",
    "actions.multinomial(1).numpy()"
   ]
  },
  {
   "cell_type": "code",
   "execution_count": 122,
   "metadata": {},
   "outputs": [
    {
     "output_type": "stream",
     "name": "stdout",
     "text": [
      "<class 'int'>\n"
     ]
    }
   ],
   "source": [
    "from typing import List, Tuple\n",
    "Action = int\n",
    "Point = Tuple[float, float]\n",
    "obj1: Point = (112.4,22.5)\n",
    "obj2: Point = (112.44, 22.55)\n",
    "obs: List[Point] = [(112.6, 22.3), (112.5, 22.6)]\n",
    "ob = (obj1, obs)\n",
    "\n",
    "def gt() -> Point:\n",
    "    x = 6\n",
    "    return Action(x)\n",
    "x = gt()\n",
    "print(type(x)) "
   ]
  },
  {
   "cell_type": "code",
   "execution_count": 48,
   "metadata": {},
   "outputs": [
    {
     "output_type": "execute_result",
     "data": {
      "text/plain": [
       "array([ 0, 22, 76])"
      ]
     },
     "metadata": {},
     "execution_count": 48
    }
   ],
   "source": [
    "import numpy as np\n",
    "A= np.array([0,1,2])\n",
    "B= np.array([[0, 1, 2, 3],\n",
    "            [4, 5, 6, 7],\n",
    "            [8, 9, 10, 11],])\n",
    "np.einsum('i,ij->i', A, B)\n"
   ]
  },
  {
   "cell_type": "code",
   "execution_count": 43,
   "metadata": {},
   "outputs": [
    {
     "output_type": "execute_result",
     "data": {
      "text/plain": [
       "col1    2.0\n",
       "col2    2.0\n",
       "col3    2.0\n",
       "col4    2.0\n",
       "dtype: float64"
      ]
     },
     "metadata": {},
     "execution_count": 43
    }
   ],
   "source": [
    "import pandas as pd\n",
    "df = pd.DataFrame([[1, 1, 1, 1], [2, 2, 2, 2], [3, 3, 3, 3]], columns=[\"col1\", \"col2\", \"col3\", \"col4\"])\n",
    "df.mean(axis=0)"
   ]
  },
  {
   "cell_type": "code",
   "execution_count": 39,
   "metadata": {},
   "outputs": [
    {
     "output_type": "execute_result",
     "data": {
      "text/plain": [
       "   col1  col3\n",
       "0     1     1\n",
       "1     2     2\n",
       "2     3     3"
      ],
      "text/html": "<div>\n<style scoped>\n    .dataframe tbody tr th:only-of-type {\n        vertical-align: middle;\n    }\n\n    .dataframe tbody tr th {\n        vertical-align: top;\n    }\n\n    .dataframe thead th {\n        text-align: right;\n    }\n</style>\n<table border=\"1\" class=\"dataframe\">\n  <thead>\n    <tr style=\"text-align: right;\">\n      <th></th>\n      <th>col1</th>\n      <th>col3</th>\n    </tr>\n  </thead>\n  <tbody>\n    <tr>\n      <th>0</th>\n      <td>1</td>\n      <td>1</td>\n    </tr>\n    <tr>\n      <th>1</th>\n      <td>2</td>\n      <td>2</td>\n    </tr>\n    <tr>\n      <th>2</th>\n      <td>3</td>\n      <td>3</td>\n    </tr>\n  </tbody>\n</table>\n</div>"
     },
     "metadata": {},
     "execution_count": 39
    }
   ],
   "source": [
    "df.drop(['col2', 'col4'], axis=1)"
   ]
  }
 ]
}